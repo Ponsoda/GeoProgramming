{
 "cells": [
  {
   "cell_type": "code",
   "execution_count": null,
   "metadata": {},
   "outputs": [],
   "source": [
    "# Welcome to a new geoprogramming video"
   ]
  },
  {
   "cell_type": "code",
   "execution_count": null,
   "metadata": {},
   "outputs": [],
   "source": [
    "# This time we will have our first script with... Geopandas"
   ]
  },
  {
   "cell_type": "code",
   "execution_count": null,
   "metadata": {},
   "outputs": [],
   "source": [
    "#Geopandas is one of the most used geospatial packages for python\n",
    "#It is based on the popular pandas, a package that allow to work with dataframes (kind of tables)\n",
    "# We are gonna create a choroplete map using geopandas \n",
    "# Let´s start !!!!!"
   ]
  },
  {
   "cell_type": "code",
   "execution_count": null,
   "metadata": {},
   "outputs": [],
   "source": [
    "#The #this first step will be to load the package\n",
    "#If you are using anaconda enviorment, this package may cause some problems, so I would suggest you to follow \n",
    "#this  tutorial with colab (from Google)\n",
    "# still you can install the package on conda using this\n",
    "#conda create -n geo-env -c conda-forge geopandas\n",
    "# in our case, it is already installed soo, let´s load the package"
   ]
  },
  {
   "cell_type": "code",
   "execution_count": 1,
   "metadata": {},
   "outputs": [],
   "source": [
    "import geopandas as gpd"
   ]
  },
  {
   "cell_type": "code",
   "execution_count": null,
   "metadata": {},
   "outputs": [],
   "source": [
    "# remember that the alias (as gdp) is not compulsory but helps to have faster coding"
   ]
  },
  {
   "cell_type": "code",
   "execution_count": 2,
   "metadata": {},
   "outputs": [],
   "source": [
    " #to this example, we are gonna import a geojson file directly to gpd\n",
    "# https://datahub.io/core/geo-admin1-us, this is the webpage from where  it is comming \n",
    "gdf = gpd.read_file(\"https://datahub.io/core/geo-admin1-us/r/admin1-us.geojson\")"
   ]
  },
  {
   "cell_type": "code",
   "execution_count": 3,
   "metadata": {},
   "outputs": [
    {
     "data": {
      "text/html": [
       "<div>\n",
       "<style scoped>\n",
       "    .dataframe tbody tr th:only-of-type {\n",
       "        vertical-align: middle;\n",
       "    }\n",
       "\n",
       "    .dataframe tbody tr th {\n",
       "        vertical-align: top;\n",
       "    }\n",
       "\n",
       "    .dataframe thead th {\n",
       "        text-align: right;\n",
       "    }\n",
       "</style>\n",
       "<table border=\"1\" class=\"dataframe\">\n",
       "  <thead>\n",
       "    <tr style=\"text-align: right;\">\n",
       "      <th></th>\n",
       "      <th>name</th>\n",
       "      <th>country</th>\n",
       "      <th>ISO3166-1-Alpha-3</th>\n",
       "      <th>state_code</th>\n",
       "      <th>id</th>\n",
       "      <th>geometry</th>\n",
       "    </tr>\n",
       "  </thead>\n",
       "  <tbody>\n",
       "    <tr>\n",
       "      <th>0</th>\n",
       "      <td>Minnesota</td>\n",
       "      <td>United States of America</td>\n",
       "      <td>USA</td>\n",
       "      <td>MN</td>\n",
       "      <td>USA-3514</td>\n",
       "      <td>POLYGON ((-89.59940914585667 48.01027395282483...</td>\n",
       "    </tr>\n",
       "    <tr>\n",
       "      <th>1</th>\n",
       "      <td>Montana</td>\n",
       "      <td>United States of America</td>\n",
       "      <td>USA</td>\n",
       "      <td>MT</td>\n",
       "      <td>USA-3515</td>\n",
       "      <td>POLYGON ((-111.1941892159301 44.56115631771988...</td>\n",
       "    </tr>\n",
       "    <tr>\n",
       "      <th>2</th>\n",
       "      <td>North Dakota</td>\n",
       "      <td>United States of America</td>\n",
       "      <td>USA</td>\n",
       "      <td>ND</td>\n",
       "      <td>USA-3516</td>\n",
       "      <td>POLYGON ((-96.60135901567638 46.3513571233911,...</td>\n",
       "    </tr>\n",
       "    <tr>\n",
       "      <th>3</th>\n",
       "      <td>Hawaii</td>\n",
       "      <td>United States of America</td>\n",
       "      <td>USA</td>\n",
       "      <td>HI</td>\n",
       "      <td>USA-3517</td>\n",
       "      <td>(POLYGON ((-155.93665 19.05939, -155.90806 19....</td>\n",
       "    </tr>\n",
       "    <tr>\n",
       "      <th>4</th>\n",
       "      <td>Idaho</td>\n",
       "      <td>United States of America</td>\n",
       "      <td>USA</td>\n",
       "      <td>ID</td>\n",
       "      <td>USA-3518</td>\n",
       "      <td>POLYGON ((-111.0497277494581 44.48816335710761...</td>\n",
       "    </tr>\n",
       "  </tbody>\n",
       "</table>\n",
       "</div>"
      ],
      "text/plain": [
       "           name                   country ISO3166-1-Alpha-3 state_code  \\\n",
       "0     Minnesota  United States of America               USA         MN   \n",
       "1       Montana  United States of America               USA         MT   \n",
       "2  North Dakota  United States of America               USA         ND   \n",
       "3        Hawaii  United States of America               USA         HI   \n",
       "4         Idaho  United States of America               USA         ID   \n",
       "\n",
       "         id                                           geometry  \n",
       "0  USA-3514  POLYGON ((-89.59940914585667 48.01027395282483...  \n",
       "1  USA-3515  POLYGON ((-111.1941892159301 44.56115631771988...  \n",
       "2  USA-3516  POLYGON ((-96.60135901567638 46.3513571233911,...  \n",
       "3  USA-3517  (POLYGON ((-155.93665 19.05939, -155.90806 19....  \n",
       "4  USA-3518  POLYGON ((-111.0497277494581 44.48816335710761...  "
      ]
     },
     "execution_count": 3,
     "metadata": {},
     "output_type": "execute_result"
    }
   ],
   "source": [
    "# let´s check what it contains with .head(number of rows to see)\n",
    "gdf.head(5)"
   ]
  },
  {
   "cell_type": "code",
   "execution_count": 5,
   "metadata": {},
   "outputs": [
    {
     "data": {
      "text/plain": [
       "0    POLYGON ((-89.59940914585667 48.01027395282483...\n",
       "1    POLYGON ((-111.1941892159301 44.56115631771988...\n",
       "2    POLYGON ((-96.60135901567638 46.3513571233911,...\n",
       "3    (POLYGON ((-155.93665 19.05939, -155.90806 19....\n",
       "4    POLYGON ((-111.0497277494581 44.48816335710761...\n",
       "Name: geometry, dtype: geometry"
      ]
     },
     "execution_count": 5,
     "metadata": {},
     "output_type": "execute_result"
    }
   ],
   "source": [
    "# a pandas file would be the same but without the geometry attribute\n",
    "# now, remember the sf video? the geometry is a wkt, in this case a poligon\n",
    "gdf.geometry.head(5)"
   ]
  },
  {
   "cell_type": "code",
   "execution_count": 6,
   "metadata": {},
   "outputs": [
    {
     "data": {
      "image/svg+xml": [
       "<svg xmlns=\"http://www.w3.org/2000/svg\" xmlns:xlink=\"http://www.w3.org/1999/xlink\" width=\"100.0\" height=\"100.0\" viewBox=\"-97.53854580326197 43.19058513071843 8.359263601657915 6.508302611648276\" preserveAspectRatio=\"xMinYMin meet\"><g transform=\"matrix(1,0,0,-1,0,92.88947287308514)\"><path fill-rule=\"evenodd\" fill=\"#66cc99\" stroke=\"#555555\" stroke-width=\"0.1671852720331583\" opacity=\"0.6\" d=\"M -89.59940914585667,48.01027395282483 L -89.48888455722101,48.01343887860651 L -89.52269548211933,47.96053538674391 L -89.61369767938538,47.81925202085796 L -89.72800594761503,47.641976019880644 L -89.84283098016755,47.464725857119504 L -89.95765601272012,47.28690725360326 L -90.13175391311142,47.29274669045219 L -90.30585181350267,47.29801768654602 L -90.47994971389409,47.30385712339489 L -90.65404761428533,47.30912811948872 L -90.85778194859608,47.21282908791278 L -91.06097368036774,47.11704682065988 L -91.26470801467849,47.02126455340681 L -91.46844234898913,46.92496552183104 L -91.59225908076053,46.876260484395914 L -91.71661841507085,46.827607123393136 L -91.8409777493813,46.778385321635085 L -91.96479448115258,46.72970612241613 L -92.01189754918664,46.71172272397854 L -92.27487891311995,46.65614472104869 L -92.26482784703921,46.095222886736394 L -92.29658301468254,46.09628225359836 L -92.5436997139023,45.98569468849382 L -92.7569683499708,45.88991242124092 L -92.89982784704182,45.705763454768714 L -92.68922054723623,45.518436387710665 L -92.76541744665064,45.26708222104298 L -92.76647681351261,44.9961426865367 L -92.79665584997099,44.776026923189534 L -92.50507158076414,44.58391978614452 L -92.38549231644072,44.574928086925695 L -92.06215287959043,44.432585354177775 L -91.949989183301,44.36483755144309 L -91.87960588251946,44.25742808692439 L -91.62770911331273,44.08544892025708 L -91.28959021682704,43.93729258887629 L -91.25729244664456,43.85473948829008 L -91.2546569485977,43.61397899024206 L -91.2281986152642,43.50124685319736 L -92.54000484899342,43.51977285417405 L -94.00102678096545,43.51341665300225 L -95.35993608272867,43.50018748633539 L -96.45266008175645,43.50178945573646 L -96.43943091508982,44.43576345476367 L -96.56061214881424,45.39301768653837 L -96.73576941606751,45.47081655535385 L -96.83470394569031,45.62532908790644 L -96.78072791216141,45.760798855159635 L -96.55689144568913,45.872445787126196 L -96.53945064979075,46.017966620460186 L -96.53890804725165,46.199480088885366 L -96.60135901567634,46.35135712339115 L -96.6854882474475,46.51328522397773 L -96.73365068234358,46.71647695574927 L -96.7458204821483,46.9445250514533 L -96.77969438351562,46.99904368752135 L -96.82041541216165,47.29220408791309 L -96.82465287960952,47.42661448830438 L -96.84423824744817,47.546193752627744 L -96.8939768135291,47.748868720076416 L -97.01515804725352,47.95420502378812 L -97.131042446668,48.137294623398304 L -97.14850908078273,48.31878225360731 L -97.1612214831265,48.51458425556132 L -97.12734758175912,48.64212169045754 L -97.12047461626435,48.75852285419501 L -97.21413814979343,48.90244171812793 L -97.22894344764501,49.000885321643864 L -95.15883724646483,48.9998259547819 L -95.15620174841791,49.38401439065592 L -94.81754024939323,49.38928538674975 L -94.64026424841592,48.84001658791925 L -94.32912044958647,48.670672919298795 L -93.63061011429733,48.60928131773602 L -92.60984554723586,48.45001455341253 L -91.63987891311746,48.13993012144516 L -90.83026424840062,48.27010305438836 L -89.59995174839577,48.01027395282483 L -89.59940914585667,48.01027395282483 z\" /></g></svg>"
      ],
      "text/plain": [
       "<shapely.geometry.polygon.Polygon at 0x255e6103b70>"
      ]
     },
     "execution_count": 6,
     "metadata": {},
     "output_type": "execute_result"
    }
   ],
   "source": [
    "# so we can plot them individually\n",
    "gdf.geometry[0]"
   ]
  },
  {
   "cell_type": "code",
   "execution_count": 7,
   "metadata": {},
   "outputs": [
    {
     "data": {
      "text/html": [
       "<div>\n",
       "<style scoped>\n",
       "    .dataframe tbody tr th:only-of-type {\n",
       "        vertical-align: middle;\n",
       "    }\n",
       "\n",
       "    .dataframe tbody tr th {\n",
       "        vertical-align: top;\n",
       "    }\n",
       "\n",
       "    .dataframe thead th {\n",
       "        text-align: right;\n",
       "    }\n",
       "</style>\n",
       "<table border=\"1\" class=\"dataframe\">\n",
       "  <thead>\n",
       "    <tr style=\"text-align: right;\">\n",
       "      <th></th>\n",
       "      <th>minx</th>\n",
       "      <th>miny</th>\n",
       "      <th>maxx</th>\n",
       "      <th>maxy</th>\n",
       "    </tr>\n",
       "  </thead>\n",
       "  <tbody>\n",
       "    <tr>\n",
       "      <th>0</th>\n",
       "      <td>-97.228943</td>\n",
       "      <td>43.500187</td>\n",
       "      <td>-89.488885</td>\n",
       "      <td>49.389285</td>\n",
       "    </tr>\n",
       "    <tr>\n",
       "      <th>1</th>\n",
       "      <td>-116.048234</td>\n",
       "      <td>44.360083</td>\n",
       "      <td>-104.026616</td>\n",
       "      <td>49.005640</td>\n",
       "    </tr>\n",
       "    <tr>\n",
       "      <th>2</th>\n",
       "      <td>-104.092762</td>\n",
       "      <td>45.956601</td>\n",
       "      <td>-96.538908</td>\n",
       "      <td>49.005640</td>\n",
       "    </tr>\n",
       "    <tr>\n",
       "      <th>3</th>\n",
       "      <td>-159.800510</td>\n",
       "      <td>18.916190</td>\n",
       "      <td>-154.807410</td>\n",
       "      <td>22.236180</td>\n",
       "    </tr>\n",
       "    <tr>\n",
       "      <th>4</th>\n",
       "      <td>-117.194391</td>\n",
       "      <td>41.993122</td>\n",
       "      <td>-111.049728</td>\n",
       "      <td>49.000369</td>\n",
       "    </tr>\n",
       "  </tbody>\n",
       "</table>\n",
       "</div>"
      ],
      "text/plain": [
       "         minx       miny        maxx       maxy\n",
       "0  -97.228943  43.500187  -89.488885  49.389285\n",
       "1 -116.048234  44.360083 -104.026616  49.005640\n",
       "2 -104.092762  45.956601  -96.538908  49.005640\n",
       "3 -159.800510  18.916190 -154.807410  22.236180\n",
       "4 -117.194391  41.993122 -111.049728  49.000369"
      ]
     },
     "execution_count": 7,
     "metadata": {},
     "output_type": "execute_result"
    }
   ],
   "source": [
    "# we can also check the boundaries of each geometry \n",
    "gdf.bounds.head(5)"
   ]
  },
  {
   "cell_type": "code",
   "execution_count": 8,
   "metadata": {},
   "outputs": [
    {
     "data": {
      "text/plain": [
       "0    POINT (-94.17743611908642 46.36007316339725)\n",
       "1    POINT (-109.6590042394482 47.04846199440962)\n",
       "2    POINT (-100.4847003412699 47.46271462229255)\n",
       "3    POINT (-156.2376432494752 20.18607134247681)\n",
       "4    POINT (-114.6549653750237 44.39400647311054)\n",
       "dtype: geometry"
      ]
     },
     "execution_count": 8,
     "metadata": {},
     "output_type": "execute_result"
    }
   ],
   "source": [
    "# and even find its centroid\n",
    "gdf.centroid.head(5)"
   ]
  },
  {
   "cell_type": "code",
   "execution_count": 11,
   "metadata": {},
   "outputs": [
    {
     "data": {
      "image/png": "[encoded data removed]",
      "text/plain": [
       "<Figure size 432x288 with 1 Axes>"
      ]
     },
     "metadata": {
      "needs_background": "light"
     },
     "output_type": "display_data"
    }
   ],
   "source": [
    "# but let´s plot the whole geometry\n",
    "# not working right? so to plot it we need to assing at least one ax (we will talk more about this in future videos)\n",
    "ax = gdf.plot()\n",
    "\n",
    "# here we go, we have our map\n",
    "# now we need to increase the size to see it in a better way"
   ]
  },
  {
   "cell_type": "code",
   "execution_count": 12,
   "metadata": {},
   "outputs": [
    {
     "data": {
      "text/plain": [
       "<matplotlib.axes._subplots.AxesSubplot at 0x255e708a278>"
      ]
     },
     "execution_count": 12,
     "metadata": {},
     "output_type": "execute_result"
    },
    {
     "data": {
      "image/png": "[encoded data removed]",
      "text/plain": [
       "<Figure size 720x720 with 1 Axes>"
      ]
     },
     "metadata": {
      "needs_background": "light"
     },
     "output_type": "display_data"
    }
   ],
   "source": [
    "gdf.plot(figsize=(10, 10))\n",
    "# and, of course, we need to add a projection here, we are geo folks, we need good projection!!!!!!"
   ]
  },
  {
   "cell_type": "code",
   "execution_count": 13,
   "metadata": {},
   "outputs": [
    {
     "data": {
      "text/plain": [
       "<matplotlib.axes._subplots.AxesSubplot at 0x255e7168240>"
      ]
     },
     "execution_count": 13,
     "metadata": {},
     "output_type": "execute_result"
    },
    {
     "data": {
      "image/png": "[encoded data removed]",
      "text/plain": [
       "<Figure size 720x720 with 1 Axes>"
      ]
     },
     "metadata": {
      "needs_background": "light"
     },
     "output_type": "display_data"
    }
   ],
   "source": [
    "gdf = gdf.to_crs(epsg=2163)\n",
    "gdf.plot(figsize=(10, 10))\n",
    "\n",
    "# now it looks much better "
   ]
  },
  {
   "cell_type": "code",
   "execution_count": 14,
   "metadata": {},
   "outputs": [
    {
     "data": {
      "text/html": [
       "<div>\n",
       "<style scoped>\n",
       "    .dataframe tbody tr th:only-of-type {\n",
       "        vertical-align: middle;\n",
       "    }\n",
       "\n",
       "    .dataframe tbody tr th {\n",
       "        vertical-align: top;\n",
       "    }\n",
       "\n",
       "    .dataframe thead th {\n",
       "        text-align: right;\n",
       "    }\n",
       "</style>\n",
       "<table border=\"1\" class=\"dataframe\">\n",
       "  <thead>\n",
       "    <tr style=\"text-align: right;\">\n",
       "      <th></th>\n",
       "      <th>name</th>\n",
       "      <th>country</th>\n",
       "      <th>ISO3166-1-Alpha-3</th>\n",
       "      <th>state_code</th>\n",
       "      <th>id</th>\n",
       "      <th>geometry</th>\n",
       "    </tr>\n",
       "  </thead>\n",
       "  <tbody>\n",
       "    <tr>\n",
       "      <th>0</th>\n",
       "      <td>Minnesota</td>\n",
       "      <td>United States of America</td>\n",
       "      <td>USA</td>\n",
       "      <td>MN</td>\n",
       "      <td>USA-3514</td>\n",
       "      <td>POLYGON ((771214.9506389854 384973.0993258929,...</td>\n",
       "    </tr>\n",
       "    <tr>\n",
       "      <th>1</th>\n",
       "      <td>Montana</td>\n",
       "      <td>United States of America</td>\n",
       "      <td>USA</td>\n",
       "      <td>MT</td>\n",
       "      <td>USA-3515</td>\n",
       "      <td>POLYGON ((-883371.462586803 12299.90338338311,...</td>\n",
       "    </tr>\n",
       "    <tr>\n",
       "      <th>2</th>\n",
       "      <td>North Dakota</td>\n",
       "      <td>United States of America</td>\n",
       "      <td>USA</td>\n",
       "      <td>ND</td>\n",
       "      <td>USA-3516</td>\n",
       "      <td>POLYGON ((260768.5370219305 155763.1776856319,...</td>\n",
       "    </tr>\n",
       "    <tr>\n",
       "      <th>3</th>\n",
       "      <td>Hawaii</td>\n",
       "      <td>United States of America</td>\n",
       "      <td>USA</td>\n",
       "      <td>HI</td>\n",
       "      <td>USA-3517</td>\n",
       "      <td>(POLYGON ((-5568212.874012694 -1020057.3226881...</td>\n",
       "    </tr>\n",
       "    <tr>\n",
       "      <th>4</th>\n",
       "      <td>Idaho</td>\n",
       "      <td>United States of America</td>\n",
       "      <td>USA</td>\n",
       "      <td>ID</td>\n",
       "      <td>USA-3518</td>\n",
       "      <td>POLYGON ((-873158.7315897648 2673.916408162856...</td>\n",
       "    </tr>\n",
       "  </tbody>\n",
       "</table>\n",
       "</div>"
      ],
      "text/plain": [
       "           name                   country ISO3166-1-Alpha-3 state_code  \\\n",
       "0     Minnesota  United States of America               USA         MN   \n",
       "1       Montana  United States of America               USA         MT   \n",
       "2  North Dakota  United States of America               USA         ND   \n",
       "3        Hawaii  United States of America               USA         HI   \n",
       "4         Idaho  United States of America               USA         ID   \n",
       "\n",
       "         id                                           geometry  \n",
       "0  USA-3514  POLYGON ((771214.9506389854 384973.0993258929,...  \n",
       "1  USA-3515  POLYGON ((-883371.462586803 12299.90338338311,...  \n",
       "2  USA-3516  POLYGON ((260768.5370219305 155763.1776856319,...  \n",
       "3  USA-3517  (POLYGON ((-5568212.874012694 -1020057.3226881...  \n",
       "4  USA-3518  POLYGON ((-873158.7315897648 2673.916408162856...  "
      ]
     },
     "execution_count": 14,
     "metadata": {},
     "output_type": "execute_result"
    }
   ],
   "source": [
    "# let´s add some color, it would be great to have a numerical attribute to create our choroplete map\n",
    "# but if you remember, there is no such a column, but we can create it using the geometry, so let´s calculate the area\n",
    "gdf.head(5)"
   ]
  },
  {
   "cell_type": "code",
   "execution_count": 15,
   "metadata": {},
   "outputs": [],
   "source": [
    "gdf['area'] = gdf['geometry'].area"
   ]
  },
  {
   "cell_type": "code",
   "execution_count": 16,
   "metadata": {},
   "outputs": [
    {
     "data": {
      "text/html": [
       "<div>\n",
       "<style scoped>\n",
       "    .dataframe tbody tr th:only-of-type {\n",
       "        vertical-align: middle;\n",
       "    }\n",
       "\n",
       "    .dataframe tbody tr th {\n",
       "        vertical-align: top;\n",
       "    }\n",
       "\n",
       "    .dataframe thead th {\n",
       "        text-align: right;\n",
       "    }\n",
       "</style>\n",
       "<table border=\"1\" class=\"dataframe\">\n",
       "  <thead>\n",
       "    <tr style=\"text-align: right;\">\n",
       "      <th></th>\n",
       "      <th>name</th>\n",
       "      <th>country</th>\n",
       "      <th>ISO3166-1-Alpha-3</th>\n",
       "      <th>state_code</th>\n",
       "      <th>id</th>\n",
       "      <th>geometry</th>\n",
       "      <th>area</th>\n",
       "    </tr>\n",
       "  </thead>\n",
       "  <tbody>\n",
       "    <tr>\n",
       "      <th>0</th>\n",
       "      <td>Minnesota</td>\n",
       "      <td>United States of America</td>\n",
       "      <td>USA</td>\n",
       "      <td>MN</td>\n",
       "      <td>USA-3514</td>\n",
       "      <td>POLYGON ((771214.9506389854 384973.0993258929,...</td>\n",
       "      <td>2.257249e+11</td>\n",
       "    </tr>\n",
       "    <tr>\n",
       "      <th>1</th>\n",
       "      <td>Montana</td>\n",
       "      <td>United States of America</td>\n",
       "      <td>USA</td>\n",
       "      <td>MT</td>\n",
       "      <td>USA-3515</td>\n",
       "      <td>POLYGON ((-883371.462586803 12299.90338338311,...</td>\n",
       "      <td>3.760453e+11</td>\n",
       "    </tr>\n",
       "    <tr>\n",
       "      <th>2</th>\n",
       "      <td>North Dakota</td>\n",
       "      <td>United States of America</td>\n",
       "      <td>USA</td>\n",
       "      <td>ND</td>\n",
       "      <td>USA-3516</td>\n",
       "      <td>POLYGON ((260768.5370219305 155763.1776856319,...</td>\n",
       "      <td>1.825232e+11</td>\n",
       "    </tr>\n",
       "    <tr>\n",
       "      <th>3</th>\n",
       "      <td>Hawaii</td>\n",
       "      <td>United States of America</td>\n",
       "      <td>USA</td>\n",
       "      <td>HI</td>\n",
       "      <td>USA-3517</td>\n",
       "      <td>(POLYGON ((-5568212.874012694 -1020057.3226881...</td>\n",
       "      <td>1.697257e+10</td>\n",
       "    </tr>\n",
       "    <tr>\n",
       "      <th>4</th>\n",
       "      <td>Idaho</td>\n",
       "      <td>United States of America</td>\n",
       "      <td>USA</td>\n",
       "      <td>ID</td>\n",
       "      <td>USA-3518</td>\n",
       "      <td>POLYGON ((-873158.7315897648 2673.916408162856...</td>\n",
       "      <td>2.151887e+11</td>\n",
       "    </tr>\n",
       "  </tbody>\n",
       "</table>\n",
       "</div>"
      ],
      "text/plain": [
       "           name                   country ISO3166-1-Alpha-3 state_code  \\\n",
       "0     Minnesota  United States of America               USA         MN   \n",
       "1       Montana  United States of America               USA         MT   \n",
       "2  North Dakota  United States of America               USA         ND   \n",
       "3        Hawaii  United States of America               USA         HI   \n",
       "4         Idaho  United States of America               USA         ID   \n",
       "\n",
       "         id                                           geometry          area  \n",
       "0  USA-3514  POLYGON ((771214.9506389854 384973.0993258929,...  2.257249e+11  \n",
       "1  USA-3515  POLYGON ((-883371.462586803 12299.90338338311,...  3.760453e+11  \n",
       "2  USA-3516  POLYGON ((260768.5370219305 155763.1776856319,...  1.825232e+11  \n",
       "3  USA-3517  (POLYGON ((-5568212.874012694 -1020057.3226881...  1.697257e+10  \n",
       "4  USA-3518  POLYGON ((-873158.7315897648 2673.916408162856...  2.151887e+11  "
      ]
     },
     "execution_count": 16,
     "metadata": {},
     "output_type": "execute_result"
    }
   ],
   "source": [
    "gdf.head(5)\n",
    "# we have the area in m2, to transform it to km2"
   ]
  },
  {
   "cell_type": "code",
   "execution_count": 17,
   "metadata": {},
   "outputs": [],
   "source": [
    "gdf['area'] = gdf['geometry'].area / 10**6\n",
    "#realize here that we are overwriting the area column instead of creating a new one"
   ]
  },
  {
   "cell_type": "code",
   "execution_count": 18,
   "metadata": {},
   "outputs": [
    {
     "data": {
      "text/html": [
       "<div>\n",
       "<style scoped>\n",
       "    .dataframe tbody tr th:only-of-type {\n",
       "        vertical-align: middle;\n",
       "    }\n",
       "\n",
       "    .dataframe tbody tr th {\n",
       "        vertical-align: top;\n",
       "    }\n",
       "\n",
       "    .dataframe thead th {\n",
       "        text-align: right;\n",
       "    }\n",
       "</style>\n",
       "<table border=\"1\" class=\"dataframe\">\n",
       "  <thead>\n",
       "    <tr style=\"text-align: right;\">\n",
       "      <th></th>\n",
       "      <th>name</th>\n",
       "      <th>country</th>\n",
       "      <th>ISO3166-1-Alpha-3</th>\n",
       "      <th>state_code</th>\n",
       "      <th>id</th>\n",
       "      <th>geometry</th>\n",
       "      <th>area</th>\n",
       "    </tr>\n",
       "  </thead>\n",
       "  <tbody>\n",
       "    <tr>\n",
       "      <th>0</th>\n",
       "      <td>Minnesota</td>\n",
       "      <td>United States of America</td>\n",
       "      <td>USA</td>\n",
       "      <td>MN</td>\n",
       "      <td>USA-3514</td>\n",
       "      <td>POLYGON ((771214.9506389854 384973.0993258929,...</td>\n",
       "      <td>225724.894588</td>\n",
       "    </tr>\n",
       "    <tr>\n",
       "      <th>1</th>\n",
       "      <td>Montana</td>\n",
       "      <td>United States of America</td>\n",
       "      <td>USA</td>\n",
       "      <td>MT</td>\n",
       "      <td>USA-3515</td>\n",
       "      <td>POLYGON ((-883371.462586803 12299.90338338311,...</td>\n",
       "      <td>376045.290194</td>\n",
       "    </tr>\n",
       "    <tr>\n",
       "      <th>2</th>\n",
       "      <td>North Dakota</td>\n",
       "      <td>United States of America</td>\n",
       "      <td>USA</td>\n",
       "      <td>ND</td>\n",
       "      <td>USA-3516</td>\n",
       "      <td>POLYGON ((260768.5370219305 155763.1776856319,...</td>\n",
       "      <td>182523.214240</td>\n",
       "    </tr>\n",
       "    <tr>\n",
       "      <th>3</th>\n",
       "      <td>Hawaii</td>\n",
       "      <td>United States of America</td>\n",
       "      <td>USA</td>\n",
       "      <td>HI</td>\n",
       "      <td>USA-3517</td>\n",
       "      <td>(POLYGON ((-5568212.874012694 -1020057.3226881...</td>\n",
       "      <td>16972.567361</td>\n",
       "    </tr>\n",
       "    <tr>\n",
       "      <th>4</th>\n",
       "      <td>Idaho</td>\n",
       "      <td>United States of America</td>\n",
       "      <td>USA</td>\n",
       "      <td>ID</td>\n",
       "      <td>USA-3518</td>\n",
       "      <td>POLYGON ((-873158.7315897648 2673.916408162856...</td>\n",
       "      <td>215188.724301</td>\n",
       "    </tr>\n",
       "  </tbody>\n",
       "</table>\n",
       "</div>"
      ],
      "text/plain": [
       "           name                   country ISO3166-1-Alpha-3 state_code  \\\n",
       "0     Minnesota  United States of America               USA         MN   \n",
       "1       Montana  United States of America               USA         MT   \n",
       "2  North Dakota  United States of America               USA         ND   \n",
       "3        Hawaii  United States of America               USA         HI   \n",
       "4         Idaho  United States of America               USA         ID   \n",
       "\n",
       "         id                                           geometry           area  \n",
       "0  USA-3514  POLYGON ((771214.9506389854 384973.0993258929,...  225724.894588  \n",
       "1  USA-3515  POLYGON ((-883371.462586803 12299.90338338311,...  376045.290194  \n",
       "2  USA-3516  POLYGON ((260768.5370219305 155763.1776856319,...  182523.214240  \n",
       "3  USA-3517  (POLYGON ((-5568212.874012694 -1020057.3226881...   16972.567361  \n",
       "4  USA-3518  POLYGON ((-873158.7315897648 2673.916408162856...  215188.724301  "
      ]
     },
     "execution_count": 18,
     "metadata": {},
     "output_type": "execute_result"
    }
   ],
   "source": [
    "gdf.head(5)"
   ]
  },
  {
   "cell_type": "code",
   "execution_count": 19,
   "metadata": {},
   "outputs": [
    {
     "data": {
      "text/plain": [
       "<matplotlib.axes._subplots.AxesSubplot at 0x255e7101b00>"
      ]
     },
     "execution_count": 19,
     "metadata": {},
     "output_type": "execute_result"
    },
    {
     "data": {
      "image/png": "[encoded data removed]",
      "text/plain": [
       "<Figure size 720x720 with 2 Axes>"
      ]
     },
     "metadata": {
      "needs_background": "light"
     },
     "output_type": "display_data"
    }
   ],
   "source": [
    "# let´s finish with the choroplete map, see that we use the column area to plot it and the 'YlGnBu' as color (+ legent true \n",
    "# to show the legend)\n",
    "gdf.plot(figsize=(10, 10), column='area', cmap ='YlGnBu', legend = True)"
   ]
  },
  {
   "cell_type": "code",
   "execution_count": null,
   "metadata": {},
   "outputs": [],
   "source": [
    "# Unfortunately, geopandas package does not contains basemaps, but the good thing of python is that we can mix packages\n",
    "#and for example, use the folium package to provide the base map\n",
    "# but that will be another tutorial\n",
    "# thank you for wa"
   ]
  }
 ],
 "metadata": {
  "kernelspec": {
   "display_name": "Python 3",
   "language": "python",
   "name": "python3"
  },
  "language_info": {
   "codemirror_mode": {
    "name": "ipython",
    "version": 3
   },
   "file_extension": ".py",
   "mimetype": "text/x-python",
   "name": "python",
   "nbconvert_exporter": "python",
   "pygments_lexer": "ipython3",
   "version": "3.7.0"
  }
 },
 "nbformat": 4,
 "nbformat_minor": 2
}
