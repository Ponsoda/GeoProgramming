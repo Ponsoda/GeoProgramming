{
  "nbformat": 4,
  "nbformat_minor": 0,
  "metadata": {
    "colab": {
      "provenance": []
    },
    "kernelspec": {
      "name": "python3",
      "display_name": "Python 3"
    },
    "language_info": {
      "name": "python"
    }
  },
  "cells": [
    {
      "cell_type": "code",
      "source": [
        "import requests \n",
        "import pandas as pd\n",
        "import numpy as np\n",
        "from sklearn.linear_model import LinearRegression"
      ],
      "metadata": {
        "id": "6OtIbM0CWiAG"
      },
      "execution_count": 10,
      "outputs": []
    },
    {
      "cell_type": "code",
      "source": [
        "url = 'https://climate.weather.gc.ca/climate_data/bulk_data_e.html?format=csv&stationID=51337&Year=2021&Month=7&Day=1&time=&timeframe=2&submit=Download+Data'\n",
        "r = requests.get(url, allow_redirects=True)\n",
        "open('pr.csv', 'wb').write(r.content)"
      ],
      "metadata": {
        "colab": {
          "base_uri": "https://localhost:8080/"
        },
        "id": "NYtdSkIjWyY-",
        "outputId": "0ba09c3f-758e-4444-9465-e281b53bd560"
      },
      "execution_count": 3,
      "outputs": [
        {
          "output_type": "execute_result",
          "data": {
            "text/plain": [
              "64487"
            ]
          },
          "metadata": {},
          "execution_count": 3
        }
      ]
    },
    {
      "cell_type": "code",
      "source": [
        "pr = pd.read_csv('pr.csv')"
      ],
      "metadata": {
        "id": "Baw9cbRXXFJr"
      },
      "execution_count": 4,
      "outputs": []
    },
    {
      "cell_type": "code",
      "source": [
        "pr.columns"
      ],
      "metadata": {
        "colab": {
          "base_uri": "https://localhost:8080/"
        },
        "id": "849UOZbJXPNO",
        "outputId": "aa8b004d-ac9e-4af6-9d72-9294b335b9e7"
      },
      "execution_count": 5,
      "outputs": [
        {
          "output_type": "execute_result",
          "data": {
            "text/plain": [
              "Index(['Longitude (x)', 'Latitude (y)', 'Station Name', 'Climate ID',\n",
              "       'Date/Time', 'Year', 'Month', 'Day', 'Data Quality', 'Max Temp (°C)',\n",
              "       'Max Temp Flag', 'Min Temp (°C)', 'Min Temp Flag', 'Mean Temp (°C)',\n",
              "       'Mean Temp Flag', 'Heat Deg Days (°C)', 'Heat Deg Days Flag',\n",
              "       'Cool Deg Days (°C)', 'Cool Deg Days Flag', 'Total Rain (mm)',\n",
              "       'Total Rain Flag', 'Total Snow (cm)', 'Total Snow Flag',\n",
              "       'Total Precip (mm)', 'Total Precip Flag', 'Snow on Grnd (cm)',\n",
              "       'Snow on Grnd Flag', 'Dir of Max Gust (10s deg)',\n",
              "       'Dir of Max Gust Flag', 'Spd of Max Gust (km/h)',\n",
              "       'Spd of Max Gust Flag'],\n",
              "      dtype='object')"
            ]
          },
          "metadata": {},
          "execution_count": 5
        }
      ]
    },
    {
      "cell_type": "code",
      "source": [
        "pr_r = pr[['Month', 'Day', 'Total Precip (mm)', 'Max Temp (°C)', 'Min Temp (°C)']]"
      ],
      "metadata": {
        "id": "a1QCrYv8Xa3m"
      },
      "execution_count": 6,
      "outputs": []
    },
    {
      "cell_type": "code",
      "source": [
        "pr_r.columns"
      ],
      "metadata": {
        "colab": {
          "base_uri": "https://localhost:8080/"
        },
        "id": "bZhaLTLsXsfl",
        "outputId": "c02be3fd-d4be-4d3f-aebf-4a5f3cd676f2"
      },
      "execution_count": 7,
      "outputs": [
        {
          "output_type": "execute_result",
          "data": {
            "text/plain": [
              "Index(['Month', 'Day', 'Total Precip (mm)', 'Max Temp (°C)', 'Min Temp (°C)'], dtype='object')"
            ]
          },
          "metadata": {},
          "execution_count": 7
        }
      ]
    },
    {
      "cell_type": "code",
      "source": [
        "pr_r = pr_r.fillna(value=0)"
      ],
      "metadata": {
        "id": "3Fpv8i9NXvNI"
      },
      "execution_count": 8,
      "outputs": []
    },
    {
      "cell_type": "code",
      "source": [
        "TRAIN_INPUT = np.array(pr_r.drop('Total Precip (mm)', axis=1))\n",
        "TRAIN_OUPUT = pr_r['Total Precip (mm)']"
      ],
      "metadata": {
        "id": "X4WmsXYyX6M2"
      },
      "execution_count": 9,
      "outputs": []
    },
    {
      "cell_type": "code",
      "source": [
        "predictor = LinearRegression()\n",
        "predictor.fit(X=TRAIN_INPUT, y=TRAIN_OUPUT)"
      ],
      "metadata": {
        "colab": {
          "base_uri": "https://localhost:8080/"
        },
        "id": "xCmVfT1sYT4C",
        "outputId": "6e14745c-9918-415a-a1bd-16d447c9df66"
      },
      "execution_count": 12,
      "outputs": [
        {
          "output_type": "execute_result",
          "data": {
            "text/plain": [
              "LinearRegression()"
            ]
          },
          "metadata": {},
          "execution_count": 12
        }
      ]
    },
    {
      "cell_type": "code",
      "source": [
        "TRAIN_INPUT"
      ],
      "metadata": {
        "colab": {
          "base_uri": "https://localhost:8080/"
        },
        "id": "_FsLq460YxMG",
        "outputId": "98e3aea0-670b-41ab-d1b0-f7a0ac02c6bc"
      },
      "execution_count": 14,
      "outputs": [
        {
          "output_type": "execute_result",
          "data": {
            "text/plain": [
              "array([[  1. ,   1. ,  10.6,   7.2],\n",
              "       [  1. ,   2. ,   9.5,   6.8],\n",
              "       [  1. ,   3. ,   9.8,   2.2],\n",
              "       ...,\n",
              "       [ 12. ,  29. ,  -1.7,  -7. ],\n",
              "       [ 12. ,  30. ,   0.6,  -6.3],\n",
              "       [ 12. ,  31. ,  -0.8, -11.8]])"
            ]
          },
          "metadata": {},
          "execution_count": 14
        }
      ]
    },
    {
      "cell_type": "code",
      "source": [
        "predictor.predict(X=[[  1. ,   1. ,  10.6,   7.2]])"
      ],
      "metadata": {
        "colab": {
          "base_uri": "https://localhost:8080/"
        },
        "id": "iV36Rs7vYrXM",
        "outputId": "6af16f1f-4c3c-4460-fc38-eb16992f2e9d"
      },
      "execution_count": 16,
      "outputs": [
        {
          "output_type": "execute_result",
          "data": {
            "text/plain": [
              "array([3.65270458])"
            ]
          },
          "metadata": {},
          "execution_count": 16
        }
      ]
    }
  ]
}